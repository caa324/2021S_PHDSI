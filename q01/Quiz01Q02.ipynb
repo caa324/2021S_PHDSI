{
 "cells": [
  {
   "cell_type": "markdown",
   "metadata": {},
   "source": [
    "# Quiz01 - Question02 \n",
    "\n",
    "## Introduction\n",
    "\n",
    "A common, and important, task given to a biostatistician when running an experimental study is randomly assigning patients to one of two groups: a test group or a control group.\n",
    "\n",
    "Patients enrolled in the test group and the control group should have simialr attributes. \n",
    "They should have a similar distributon of ages, BMIs, etc. \n",
    "And these two groups should have similar proportions of other attirbutes that may impact the outcome of interest. \n",
    "\n",
    "The goal is to, as best as possible, to make the only systematic difference between the two groups is the presence (or absence) of a medical intervention. \n",
    "The group that recieves the intervention is typically called the test group and the group of patients that do not receieve the intervention is typically called the control group. \n"
   ]
  },
  {
   "cell_type": "markdown",
   "metadata": {},
   "source": [
    "## The goal\n",
    "\n",
    "The goal is to develop a list that has 500 entries where each entry is either the string \"Test\" or \"Control\" and each entry is assigned \"Test\" with a probability of 0.50 and \"Control\" with a probability of 0.50. \n",
    "\n",
    "The algorithm you will build to assign patients to \"Test\" and \"Control\" groups is called a a 1:1 randomization. "
   ]
  },
  {
   "cell_type": "markdown",
   "metadata": {},
   "source": [
    "## A start\n",
    "\n",
    "We will fill the empty list called ``assignments`` with 500 entries."
   ]
  },
  {
   "cell_type": "code",
   "execution_count": 13,
   "metadata": {},
   "outputs": [],
   "source": [
    "assignments = [] # building an empty list called assignments"
   ]
  },
  {
   "cell_type": "markdown",
   "metadata": {},
   "source": [
    "## Loop and append\n",
    "\n",
    "Next, i recommend writing a for loop that iterates through the values 0,1,2,...,499 (you can use ``range(500)`` to do this). \n",
    "\n",
    "Inside the loop I recommend generating a random number between 0 and 1 (you can do this using ``np.random.random()``) and calling that random number ``R``. \n",
    "\n",
    "You'll need to include an \"ifelse\" statement: if ``R`` is less than 0.50 then append the value $1$ to the assignments list. Else, append the number $0$ to the assignments list. "
   ]
  },
  {
   "cell_type": "code",
   "execution_count": 14,
   "metadata": {},
   "outputs": [],
   "source": [
    "import numpy as np # This loads the numpy package and gives it a nickname (np)\n",
    "for patient in range(500):\n",
    "    pass # delete this line before you start writing\n",
    "   # Generate your random number and call it R here     \n",
    "   # Write the if-else statement discussed above"
   ]
  },
  {
   "cell_type": "markdown",
   "metadata": {},
   "source": [
    "To make sure you created a list of 500 entries, we can print the length of the list"
   ]
  },
  {
   "cell_type": "code",
   "execution_count": 15,
   "metadata": {},
   "outputs": [
    {
     "name": "stdout",
     "output_type": "stream",
     "text": [
      "Length of the list is 0\n"
     ]
    }
   ],
   "source": [
    "print(\"Length of the list is {:d}\".format(len(assignments)))"
   ]
  },
  {
   "cell_type": "markdown",
   "metadata": {},
   "source": [
    "And we can check that the proportion of patients assigned to the test group is close to 50\\% too."
   ]
  },
  {
   "cell_type": "code",
   "execution_count": 16,
   "metadata": {},
   "outputs": [
    {
     "name": "stdout",
     "output_type": "stream",
     "text": [
      "The proportion of patients assigned to the test group is nan\n"
     ]
    }
   ],
   "source": [
    "print(\"The proportion of patients assigned to the test group is {:.2f}\".format(np.mean(assignments))) # This will give you an error is the list is empty. "
   ]
  }
 ],
 "metadata": {
  "kernelspec": {
   "display_name": "Python 3",
   "language": "python",
   "name": "python3"
  },
  "language_info": {
   "codemirror_mode": {
    "name": "ipython",
    "version": 3
   },
   "file_extension": ".py",
   "mimetype": "text/x-python",
   "name": "python",
   "nbconvert_exporter": "python",
   "pygments_lexer": "ipython3",
   "version": "3.9.0"
  }
 },
 "nbformat": 4,
 "nbformat_minor": 4
}
