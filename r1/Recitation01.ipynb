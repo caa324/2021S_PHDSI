{
 "cells": [
  {
   "cell_type": "markdown",
   "metadata": {},
   "source": [
    "# Signing into JupyterHub\n",
    "\n",
    "To work with Python we will use Jupyter Notebooks. Jupyter is a framework for building scientific reports, allowing you to weave together prose and code. I use Jupyter to write your course notes. \n",
    "\n",
    "Lehigh's very own LTS has led a huge effort to build us a JupyterHub. Thanks LTS! \n",
    "\n",
    "To access JupyterHub, make sure you are signed into the VPN. \n",
    "Instructions for using the Lehigh VPN are here = https://lts.lehigh.edu/services/vpn\n",
    "\n",
    "After you are signed into the VPN. \n",
    "Type https://jupyter.cloud.lehigh.edu/ into your browser.\n",
    "Click \"BSTA001\" and wait for your Jupyter instance to load (should only take a minute or so). \n"
   ]
  },
  {
   "cell_type": "markdown",
   "metadata": {},
   "source": [
    "## [Python 3](https://docs.python.org/3/tutorial/)\n",
    "\n",
    "Python 3 is a highly expressive programming language. \n",
    "You can use Python to write state-of-the-art machine learning code, run a large network of web servers, or use it as a calculator. \n",
    "One of the aims of the inventors of Python was to write a programming language with an intuitive **syntax**---a set of words, operators, and structure considered correct.\n",
    "\n",
    "Computers don't speak the language as humans.\n",
    "They speak in machine code, long sequences of Binary code (think of the movie The Matrix).\n",
    "How programming languages translate between human input, what we type into our computer, and machine code, what the computer understands, is called the **Programming Process**.\n",
    "The majority of languages approach this process by either being **interpreted** or **compiled**.\n",
    "\n",
    "An **interpreted** language translates human code into machine code line by line, sometimes called \"on the fly\". \n",
    "A major advantage to interpreted languages, vs compiled, is how much easier it is to run these programs.\n",
    "The user does need to complete any additional steps beyond writing their code.\n",
    "On the downside, interpreted languages tend to be a bit slower than their compiled counterparts.\n",
    "Python 3 is an interpreted language. \n",
    "\n",
    "Some programming languages require you to predefine resources for all the variables you plan to create. \n",
    "This is called **static typing**. \n",
    "Python 3 is not one of these languages. \n",
    "Instead, Python 3 figures out the resources you'll need from your code---called **Dynamic typing**---and makes it much faster to write code. \n",
    "\n",
    "The goal of an interpreted, Dynamically typed language is to trade the time it takes to run a program (longer with Python 3) with the time it takes to write the program itself (slower with a compiled, statically typed language). \n",
    "\n",
    "Our goal will be to learn how to  \n",
    "* use fundamental objects in Python 3\n",
    "* write loops\n",
    "* build functions\n",
    "* import modules\n",
    "* write a simple algorithm for taking a simple random sample.\n",
    "\n",
    "\n",
    "\n"
   ]
  },
  {
   "cell_type": "markdown",
   "metadata": {},
   "source": [
    "## Fundamental objects in Python 3\n",
    "\n",
    "### [Variables](https://www.w3schools.com/python/python_variables.asp)\n",
    "\n",
    "Variables are how we reserve space in the computer for numbers or strings.\n",
    "When you create a variable, the computer allocates a unique space in it's memory to store this variable's data.   \n",
    "\n",
    "To create a variable, to assign space to a number or string, we write ```<the variable name> = <the data to store>```.\n",
    "For example, I'd like to create a variable called ```x``` and assign it the value 5. \n",
    "All I need to do is type "
   ]
  },
  {
   "cell_type": "code",
   "execution_count": 149,
   "metadata": {},
   "outputs": [],
   "source": [
    "x=5"
   ]
  },
  {
   "cell_type": "markdown",
   "metadata": {},
   "source": [
    "You can store to types of numerical information in Python 3: floats or integers. \n",
    "By default Python 3 considers numbers integers---numbers with no fractional part.\n",
    "A **floating-point number**, called a **float** for short, is a format for specifying positive and negative decimal numbers in a computer. \n",
    "If the variable you've created has the potential to be positive, negative, or have a decimal, make sure it is a float. \n",
    "To assign a variable to a float include a period in the number. \n",
    "Here are some examples."
   ]
  },
  {
   "cell_type": "code",
   "execution_count": 150,
   "metadata": {},
   "outputs": [],
   "source": [
    "x=5.           # float\n",
    "x=5            # integer\n",
    "y = 32.45      # float\n",
    "PHDSI = -0.321 # float"
   ]
  },
  {
   "cell_type": "markdown",
   "metadata": {},
   "source": [
    "To assign a set of characters to a variable, enclose them in either single or double quotes. \n",
    "Like this ```<the variable name> = \"the string\"``` or like this ```<the variable name> = 'the string but with single quotes'.```\n",
    "Here are a few examples"
   ]
  },
  {
   "cell_type": "code",
   "execution_count": 151,
   "metadata": {},
   "outputs": [],
   "source": [
    "hereIsAString = \"PHDS-I Rulez\"\n",
    "anotherString = 'Banjo the Science Dog!'"
   ]
  },
  {
   "cell_type": "markdown",
   "metadata": {},
   "source": [
    "### [Lists](https://www.w3schools.com/python/python_lists.asp)\n",
    "\n",
    "Lists are ordered sequences of numbers or strings that can be accessed and changed.\n",
    "To create variable that stores a list, enclose the numbers or strings you want in the list with square brackets and separate them with commas. \n",
    "For example, suppose I want a list called ```randomList```of the numbers: 1, 2, 3 and then the string \"Kazoo the Science Dog\".\n",
    "Then I would write"
   ]
  },
  {
   "cell_type": "code",
   "execution_count": 152,
   "metadata": {},
   "outputs": [],
   "source": [
    "randomList = [1,2,3,\"Kazoo the Science Dog\"]"
   ]
  },
  {
   "cell_type": "markdown",
   "metadata": {},
   "source": [
    "Lists are a ways to store multiple pieces of information and associate them with a single location in your computer, a variable. \n",
    "You can access the items in your list using **indexing**. \n",
    "To access the first item in your list, you type ```<the variable name>[the ordered number of what piece of information you want].```\n",
    "For example, lets assume I want the 2nd item in my ```randomList```. \n",
    "I would type"
   ]
  },
  {
   "cell_type": "code",
   "execution_count": 153,
   "metadata": {},
   "outputs": [
    {
     "data": {
      "text/plain": [
       "2"
      ]
     },
     "execution_count": 153,
     "metadata": {},
     "output_type": "execute_result"
    }
   ],
   "source": [
    "randomList[1]"
   ]
  },
  {
   "cell_type": "markdown",
   "metadata": {},
   "source": [
    "UMMMMMMM, WHAT!\n",
    "I wanted the second item in my list (the value 2) but I didn't type ```randomList[2]```. \n",
    "Instead I typed ```randomList[1]```. \n",
    "You did not forget how to count. Python does not start counting at $1$ like us humans like to do. \n",
    "Python starts counting at $0$ (my favorite number, thanks Python). \n",
    "\n",
    "To access data you've stored in a list, you do not need to use positive numbers as your index, you can use negative numbers to. \n",
    "If I wanted the last item in my list I could type either "
   ]
  },
  {
   "cell_type": "code",
   "execution_count": 154,
   "metadata": {},
   "outputs": [
    {
     "data": {
      "text/plain": [
       "'Kazoo the Science Dog'"
      ]
     },
     "execution_count": 154,
     "metadata": {},
     "output_type": "execute_result"
    }
   ],
   "source": [
    "randomList[3]"
   ]
  },
  {
   "cell_type": "markdown",
   "metadata": {},
   "source": [
    "Or I could have typed"
   ]
  },
  {
   "cell_type": "code",
   "execution_count": 155,
   "metadata": {},
   "outputs": [
    {
     "data": {
      "text/plain": [
       "'Kazoo the Science Dog'"
      ]
     },
     "execution_count": 155,
     "metadata": {},
     "output_type": "execute_result"
    }
   ],
   "source": [
    "randomList[-1]"
   ]
  },
  {
   "cell_type": "markdown",
   "metadata": {},
   "source": [
    "You can also access a range of information by typing the first index, a colon, and the last index.\n",
    "But beware!\n",
    "Python will only include the information at indices up to, **but not including**, the last index.   "
   ]
  },
  {
   "cell_type": "code",
   "execution_count": 156,
   "metadata": {},
   "outputs": [
    {
     "data": {
      "text/plain": [
       "[3, 'Kazoo the Science Dog']"
      ]
     },
     "execution_count": 156,
     "metadata": {},
     "output_type": "execute_result"
    }
   ],
   "source": [
    "randomList[2:4]"
   ]
  },
  {
   "cell_type": "markdown",
   "metadata": {},
   "source": [
    "The range of indices written above were: 2, 3, and 4. \n",
    "But Python only returned the info at indices 2 and 3. \n",
    "If you want to include that last item it is common practice to write"
   ]
  },
  {
   "cell_type": "code",
   "execution_count": 157,
   "metadata": {},
   "outputs": [
    {
     "data": {
      "text/plain": [
       "[3, 'Kazoo the Science Dog']"
      ]
     },
     "execution_count": 157,
     "metadata": {},
     "output_type": "execute_result"
    }
   ],
   "source": [
    "randomList[2:4+1]"
   ]
  },
  {
   "cell_type": "markdown",
   "metadata": {},
   "source": [
    "Another important property of lists is that they can be modified. \n",
    "You can add to the end of a list by appending the value you'd like to add to the end of the list"
   ]
  },
  {
   "cell_type": "code",
   "execution_count": 158,
   "metadata": {},
   "outputs": [
    {
     "name": "stdout",
     "output_type": "stream",
     "text": [
      "[1, 2, 3, 'Kazoo the Science Dog', 'A string I want to include at the end of my list']\n"
     ]
    }
   ],
   "source": [
    "randomList.append( \"A string I want to include at the end of my list\" )\n",
    "print(randomList)"
   ]
  },
  {
   "cell_type": "markdown",
   "metadata": {},
   "source": [
    "Or you can change the information in any of the current indices that store information.\n",
    "If I wanted to change the information in the 1st slot of the list (the value 1) with the value 77 then I can write"
   ]
  },
  {
   "cell_type": "code",
   "execution_count": 159,
   "metadata": {},
   "outputs": [
    {
     "name": "stdout",
     "output_type": "stream",
     "text": [
      "[77, 2, 3, 'Kazoo the Science Dog', 'A string I want to include at the end of my list']\n"
     ]
    }
   ],
   "source": [
    "randomList[0] = 77 # remeber we start counting at zero!\n",
    "print(randomList)"
   ]
  },
  {
   "cell_type": "markdown",
   "metadata": {},
   "source": [
    "### [Tuples](https://www.w3schools.com/python/python_tuples.asp)\n",
    "\n",
    "A tuple acts a lot like a list except for one major difference: once you create a tuple, you cannot modify it. \n",
    "To create a tuple enclose information separated by commas by a left and right parenthesis. \n",
    "Like this, "
   ]
  },
  {
   "cell_type": "code",
   "execution_count": 160,
   "metadata": {},
   "outputs": [],
   "source": [
    "aTuple = (0.4,1.2,4.5)"
   ]
  },
  {
   "cell_type": "markdown",
   "metadata": {},
   "source": [
    "You can still access particular items just like you can with lists."
   ]
  },
  {
   "cell_type": "code",
   "execution_count": 161,
   "metadata": {},
   "outputs": [
    {
     "name": "stdout",
     "output_type": "stream",
     "text": [
      "1.2\n"
     ]
    }
   ],
   "source": [
    "print(aTuple[1])"
   ]
  },
  {
   "cell_type": "markdown",
   "metadata": {},
   "source": [
    "but watch what happens when I try to change an item in a tuple"
   ]
  },
  {
   "cell_type": "code",
   "execution_count": 162,
   "metadata": {},
   "outputs": [],
   "source": [
    "# But you cannot run this code - > aTuple[1] = 7"
   ]
  },
  {
   "cell_type": "markdown",
   "metadata": {},
   "source": [
    "### Tuples vs lists\n",
    "\n",
    "Though you can use either a tuple or list, it is a convention to use lists for homogenous data and tuple for inhomogeneous data.\n",
    "For example, suppose you wanted to track the last x, y, and z coordinates of a wild bird population. \n",
    "Because each coordinate refers to a different dimension in space a tuple would be a better fit. "
   ]
  },
  {
   "cell_type": "code",
   "execution_count": 163,
   "metadata": {},
   "outputs": [],
   "source": [
    "birdLocation00 = (  2.3, 4.5 , 0.9)\n",
    "birdLocation01 = ( -2.3, 44.5, -0.9)\n",
    "birdLocation02 = (  4.3, 14.5, 0.99)"
   ]
  },
  {
   "cell_type": "markdown",
   "metadata": {},
   "source": [
    "If instead you wanted to track the amount of worms they eat for distinct meals (measured in grams) it may be best to use a list. \n",
    "This is because the data all refers to the same type of information: grams of food gobbled up. "
   ]
  },
  {
   "cell_type": "code",
   "execution_count": 164,
   "metadata": {},
   "outputs": [],
   "source": [
    "birdMeals00 = [430, 222, 450, 233]\n",
    "birdMeals01 = [430, 100]\n",
    "birdMeals02 = [130, 22, 330]"
   ]
  },
  {
   "cell_type": "markdown",
   "metadata": {},
   "source": [
    "### [Sets](https://www.w3schools.com/python/python_sets.asp)\n",
    "\n",
    "Like a list and tuple, a set is a collection of information. \n",
    "But unlike a list or tuple a set is unordered and only unique items can be stored in a set. \n",
    "\n",
    "You can create a set by enclosing data separated by commas inside a left and right curly bracket. "
   ]
  },
  {
   "cell_type": "code",
   "execution_count": 165,
   "metadata": {},
   "outputs": [
    {
     "name": "stdout",
     "output_type": "stream",
     "text": [
      "{1, 2, 3, 5, 8, 13, 21}\n"
     ]
    }
   ],
   "source": [
    "aSet = {1,1,2,3,5,8,13,21}\n",
    "print(aSet)"
   ]
  },
  {
   "cell_type": "markdown",
   "metadata": {},
   "source": [
    "But notice what happened with the set created above. \n",
    "Even though two \"ones\" were included in the set, the set that was created only included a single one---items in a set are unique. \n",
    "\n",
    "The advantage in Python of a set are set operations. \n",
    "With two sets A and B you can perform"
   ]
  },
  {
   "cell_type": "code",
   "execution_count": 166,
   "metadata": {},
   "outputs": [],
   "source": [
    "A = {'a','b','c'}\n",
    "B = {'a','c','d'}"
   ]
  },
  {
   "cell_type": "markdown",
   "metadata": {},
   "source": [
    "Set Union"
   ]
  },
  {
   "cell_type": "code",
   "execution_count": 167,
   "metadata": {},
   "outputs": [
    {
     "name": "stdout",
     "output_type": "stream",
     "text": [
      "{'b', 'c', 'a', 'd'}\n"
     ]
    }
   ],
   "source": [
    "print(A|B)"
   ]
  },
  {
   "cell_type": "markdown",
   "metadata": {},
   "source": [
    "Set Intersection"
   ]
  },
  {
   "cell_type": "code",
   "execution_count": 168,
   "metadata": {},
   "outputs": [
    {
     "data": {
      "text/plain": [
       "{'a', 'c'}"
      ]
     },
     "execution_count": 168,
     "metadata": {},
     "output_type": "execute_result"
    }
   ],
   "source": [
    "A & B"
   ]
  },
  {
   "cell_type": "markdown",
   "metadata": {},
   "source": [
    "Set Difference"
   ]
  },
  {
   "cell_type": "code",
   "execution_count": 169,
   "metadata": {},
   "outputs": [
    {
     "data": {
      "text/plain": [
       "{'b'}"
      ]
     },
     "execution_count": 169,
     "metadata": {},
     "output_type": "execute_result"
    }
   ],
   "source": [
    "A-B"
   ]
  },
  {
   "cell_type": "markdown",
   "metadata": {},
   "source": [
    "### [Dictionaries](https://www.w3schools.com/python/python_dictionaries.asp)\n",
    "\n",
    "Dictionaries create a list of pairs, or associations, between two pieces of information.\n",
    "The first piece of information is called a **key** and the associated piece is called a **value**. \n",
    "\n",
    "A dictionary is created by placing a colon (:) between each key, value pair, separating these pairs by commas, and enclosing these pairs by curly brackets.\n",
    "\n",
    "Suppose I wanted to link each bird's number from the example above with their coordinates and their meals. \n",
    "I could create a dictionary."
   ]
  },
  {
   "cell_type": "code",
   "execution_count": 170,
   "metadata": {},
   "outputs": [],
   "source": [
    "birdData = { 1: [(2.3, 4.5 , 0.9)   , [430, 222, 450, 233] ] \n",
    "           , 2: [( -2.3, 44.5, -0.9), [430, 100] ]\n",
    "           , 3: [(  4.3, 14.5, 0.99), [130, 22, 330]  ]\n",
    "           }"
   ]
  },
  {
   "cell_type": "markdown",
   "metadata": {},
   "source": [
    "You can access elements in dictionaries by referring to their keys. \n",
    "For example, if we want data from Bird number 2 we can write"
   ]
  },
  {
   "cell_type": "code",
   "execution_count": 171,
   "metadata": {},
   "outputs": [
    {
     "name": "stdout",
     "output_type": "stream",
     "text": [
      "[(-2.3, 44.5, -0.9), [430, 100]]\n"
     ]
    }
   ],
   "source": [
    "print(birdData[2])"
   ]
  },
  {
   "cell_type": "markdown",
   "metadata": {},
   "source": [
    "and if we only wanted the meals they have had, we could further index our dictionary"
   ]
  },
  {
   "cell_type": "code",
   "execution_count": 172,
   "metadata": {},
   "outputs": [
    {
     "name": "stdout",
     "output_type": "stream",
     "text": [
      "[430, 100]\n"
     ]
    }
   ],
   "source": [
    "print(birdData[2][1]) \n",
    "# Why can I do this? Hint: What type of Python object did I assign to the number 2 in this dictionary?"
   ]
  }
 ],
 "metadata": {
  "kernelspec": {
   "display_name": "Python 3",
   "language": "python",
   "name": "python3"
  },
  "language_info": {
   "codemirror_mode": {
    "name": "ipython",
    "version": 3
   },
   "file_extension": ".py",
   "mimetype": "text/x-python",
   "name": "python",
   "nbconvert_exporter": "python",
   "pygments_lexer": "ipython3",
   "version": "3.9.0"
  }
 },
 "nbformat": 4,
 "nbformat_minor": 2
}
