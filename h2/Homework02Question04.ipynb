{
 "cells": [
  {
   "cell_type": "code",
   "execution_count": 39,
   "metadata": {},
   "outputs": [],
   "source": [
    "# import modules\n",
    "import pandas as pd\n",
    "import numpy as np\n",
    "\n",
    "# Generate some made up medical data on exposure, toxicity levels, and age. \n",
    "medicalData = {\"Age\":[],\"Exposure\":[], \"Toxicity\":[]} # <- this dictionary will hold three variables. \n",
    "# My \"keys\" are strings that refer to each variable and my \"values\" are empty lists that i will fill with data.\n",
    "\n",
    "for i in range(10**3): # build a dataset that contains 1000 observations\n",
    "    if i<500:   # the first 500 observations refer to patients under 65\n",
    "        medicalData[\"Age\"].append(\"Under 65\")\n",
    "        \n",
    "        exposure = np.random.normal(4.5,1)\n",
    "        medicalData[\"Exposure\"].append( exposure )\n",
    "        \n",
    "        toxicity = np.random.normal( 0.5 + 1.3*exposure )\n",
    "        medicalData[\"Toxicity\"].append( toxicity )\n",
    "    else:       # the second 500 observations refer to patients over 65\n",
    "        medicalData[\"Age\"].append(\"Over 65\")\n",
    "        \n",
    "        exposure = np.random.normal(3,1)\n",
    "        medicalData[\"Exposure\"].append( exposure )\n",
    "        \n",
    "        toxicity = np.random.normal( 10 + 1.3*exposure )\n",
    "        medicalData[\"Toxicity\"].append( toxicity )\n",
    "medicalData = pd.DataFrame(medicalData) # Transform this dictionary into a dataframe with the help of the Pandas package. "
   ]
  },
  {
   "cell_type": "code",
   "execution_count": 40,
   "metadata": {},
   "outputs": [],
   "source": [
    "# Import useful modules you'll need to plot the data\n",
    "import matplotlib.pyplot as plt\n",
    "import seaborn as sns"
   ]
  },
  {
   "cell_type": "markdown",
   "metadata": {},
   "source": [
    "### Please plot the level of exposure by the level of toxicity for all patients using the lmplot function from the package seaborn. "
   ]
  },
  {
   "cell_type": "code",
   "execution_count": null,
   "metadata": {},
   "outputs": [],
   "source": []
  },
  {
   "cell_type": "markdown",
   "metadata": {},
   "source": [
    "### Please describe the relationship between the level of exposure and the level of toxicity.  "
   ]
  },
  {
   "cell_type": "markdown",
   "metadata": {},
   "source": []
  },
  {
   "cell_type": "markdown",
   "metadata": {},
   "source": [
    "### Please plot the level of exposure by the level of toxicity subset by patients how are over and under 65 using the lmplot function from the package seaborn and the \"hue\" option. "
   ]
  },
  {
   "cell_type": "code",
   "execution_count": null,
   "metadata": {},
   "outputs": [],
   "source": []
  },
  {
   "cell_type": "markdown",
   "metadata": {},
   "source": [
    "### Please describe the relationship between the level of exposure and the level of toxicity for patients in age group."
   ]
  },
  {
   "cell_type": "markdown",
   "metadata": {},
   "source": []
  },
  {
   "cell_type": "markdown",
   "metadata": {},
   "source": [
    "### Are your conclusions for all patients different than your conclusions for patients subset by age group? Why might that be the case?"
   ]
  },
  {
   "cell_type": "markdown",
   "metadata": {},
   "source": []
  },
  {
   "cell_type": "markdown",
   "metadata": {},
   "source": [
    "You can save your work as a PDF by clicking File in the top left of the screen, then \"Download as\", and finally \"PDF via LaTex\"."
   ]
  }
 ],
 "metadata": {
  "kernelspec": {
   "display_name": "Python 3",
   "language": "python",
   "name": "python3"
  },
  "language_info": {
   "codemirror_mode": {
    "name": "ipython",
    "version": 3
   },
   "file_extension": ".py",
   "mimetype": "text/x-python",
   "name": "python",
   "nbconvert_exporter": "python",
   "pygments_lexer": "ipython3",
   "version": "3.9.0"
  }
 },
 "nbformat": 4,
 "nbformat_minor": 4
}
